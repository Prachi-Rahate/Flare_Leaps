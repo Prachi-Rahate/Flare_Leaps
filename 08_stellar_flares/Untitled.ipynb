{
 "cells": [
  {
   "cell_type": "code",
   "execution_count": 1,
   "id": "b28dd70a",
   "metadata": {},
   "outputs": [],
   "source": [
    "import allesfitter"
   ]
  },
  {
   "cell_type": "code",
   "execution_count": 2,
   "id": "03a2fe49",
   "metadata": {},
   "outputs": [
    {
     "name": "stderr",
     "output_type": "stream",
     "text": [
      "\n",
      "! WARNING:\n",
      " You are using outdated keywords. Automatically renaming log_err_flux_Flaronardo ---> ln_err_flux_Flaronardo. Please fix this before the Duolingo owl comes to get you.\n",
      "type: <class 'UserWarning'>, file: /home/prachi/anaconda3/envs/Flare/lib/python3.9/site-packages/allesfitter/basement.py, line: 632\n"
     ]
    },
    {
     "name": "stdout",
     "output_type": "stream",
     "text": [
      "Filling the Basement\n",
      "\n",
      "\n",
      "allesfitter version\n",
      "---------------------\n",
      "v1.2.9\n",
      "OrderedDict([('user-given:', ''),\n",
      "             ('companions_phot', ['b']),\n",
      "             ('companions_rv', []),\n",
      "             ('inst_phot', ['Flaronardo']),\n",
      "             ('inst_rv', []),\n",
      "             ('multiprocess', True),\n",
      "             ('multiprocess_cores', 'all'),\n",
      "             ('fast_fit', 'False'),\n",
      "             ('do_not_phase_fold', 'True'),\n",
      "             ('shift_epoch', False),\n",
      "             ('mcmc_nwalkers', '100'),\n",
      "             ('mcmc_total_steps', '3000'),\n",
      "             ('mcmc_burn_steps', '2000'),\n",
      "             ('mcmc_thin_by', '10'),\n",
      "             ('ns_modus', 'dynamic'),\n",
      "             ('ns_nlive', '500'),\n",
      "             ('ns_bound', 'single'),\n",
      "             ('ns_sample', 'rwalk'),\n",
      "             ('ns_tol', '0.01'),\n",
      "             ('baseline_flux_Flaronardo', 'hybrid_spline'),\n",
      "             ('error_flux_Flaronardo', 'sample'),\n",
      "             ('N_flares', '2'),\n",
      "             ('automatically set:', ''),\n",
      "             ('time_format', 'BJD_TDB'),\n",
      "             ('inst_rv2', []),\n",
      "             ('companions_all', ['b']),\n",
      "             ('inst_all', ['Flaronardo']),\n",
      "             ('print_progress', True),\n",
      "             ('inst_for_b_epoch', ['Flaronardo'])])\n",
      "MCMC output files already exists in allesfit/results.\n",
      "What do you want to do?\n",
      "1 : overwrite the output files\n",
      "2 : abort\n",
      "1\n",
      "\n",
      "Convergence check\n",
      "-------------------\n",
      "Total steps:         3000      \n",
      "Burn steps:          2000      \n",
      "Evaluation steps:    1000                \n",
      "Evaluation samples:  10000               \n",
      "Autocorrelation times:\n",
      "\t parameter                      tau (in steps)       Chain length (in multiples of tau)\n",
      "\t flare_tpeak_1                  48.163309682101115   20.76269273437471   \n",
      "\t flare_fwhm_1                   47.56397763257273    21.02431398241977   \n",
      "\t flare_ampl_1                   47.69482063820245    20.966637186575834  \n",
      "\t flare_tpeak_2                  41.64884426276717    24.01027009755395   \n",
      "\t flare_fwhm_2                   45.69145791045258    21.88592891826364   \n",
      "\t flare_ampl_2                   44.994030039642006   22.225170741961758  \n",
      "\t ln_err_flux_Flaronardo         41.42644775829089    24.13916843255924   \n",
      "\n",
      "Not yet converged! Some chains are less than 30x the autocorrelation length. Please continue to run with longer chains, or start again with more walkers.\n",
      "\n",
      "Plotting collage for companion b...\n"
     ]
    },
    {
     "name": "stderr",
     "output_type": "stream",
     "text": [
      "100%|██████████| 16/16 [00:01<00:00, 13.39it/s]\n"
     ]
    },
    {
     "name": "stdout",
     "output_type": "stream",
     "text": [
      "Plotting individual transits for companion b and instrument Flaronardo...\n",
      "File \"params_star.csv\" not found. Cannot derive final parameters.\n",
      "\n",
      "Performing diagnostic tests on the fit's residuals...\n",
      "\n",
      "Anderson-Darling Test\n",
      "---------------------\n",
      "This tests the null hypothesis that the residuals follows a normal distribution.\n",
      "Test statistic\t\t 0.2153750115155617\n",
      "Critical values\t\t [0.568 0.647 0.776 0.906 1.077]\n",
      "Significance levels\t [0.15  0.1   0.05  0.025 0.01 ]\n",
      "Does the null hypotheses hold at a significance level of...\n",
      "... 0.15 \t\t True\n",
      "... 0.1 \t\t True\n",
      "... 0.05 \t\t True\n",
      "... 0.025 \t\t True\n",
      "... 0.01 \t\t True\n",
      "The null hypothesis cannot be rejected.\n",
      "In simple words: your residuals look good.\n",
      "\n",
      "\n",
      "Augmented Dickey-Fuller Test\n",
      "----------------------------\n",
      "This tests the null hypothesis that the residuals show non-stationarity (trends).\n",
      "Test Statistic         -1.665270e+01\n",
      "P-Value                 1.598959e-29\n",
      "# Lags Used             0.000000e+00\n",
      "# Observations Used     2.870000e+02\n",
      "Critical Value (1%)    -3.453342e+00\n",
      "Critical Value (5%)    -2.871664e+00\n",
      "Critical Value (10%)   -2.572164e+00\n",
      "Is the time series stationary? True\n",
      "In simple words: your residuals look good.\n",
      "\n",
      "\n",
      "Durbin-Watson Test\n",
      "------------------\n",
      "This tests the null hypothesis that there is no correlation among the residuals.\n",
      "Test statistic: 1.972940084632517\n",
      "The test statistic is approximately equal to 2*(1-r) where r is the sample autocorrelation of the residuals. Interpretation:\n",
      "\t< 1.5 suggests a positive correlation\n",
      "\t1.5 to 2.5 suggests no correlation\n",
      "\t> 2.5 suggests a negative correlation\n",
      "No signs of a correlation.\n",
      "In simple words: your residuals look good.\n",
      "\n",
      "\n",
      "Ljung-Box Test\n",
      "--------------\n",
      "This tests the null hypothesis that there is no correlation among the residuals.\n",
      "Does the null hypotheses hold at a significance level of...\n",
      " lag   lb_stat  lb_pvalue  0.15  0.1  0.05  0.025  0.01\n",
      "   1  0.014511   0.904117  True True  True   True  True\n",
      "   5  1.739680   0.883863  True True  True   True  True\n",
      "  10 12.743491   0.238369  True True  True   True  True\n",
      "  15 19.648668   0.185828  True True  True   True  True\n",
      "  20 26.819255   0.140426 False True  True   True  True\n",
      "The null hypothesis is rejected at some significance levels.\n",
      "In simple words: there might still be some structure in your residuals.\n",
      "\n",
      "\n",
      "Summary\n",
      "-------\n",
      "Test                    Passed?\n",
      "Anderson-Darling        True\n",
      "Augmented Dickey-Fuller True\n",
      "Durbin-Watson           True\n",
      "Ljung-Box               False\n",
      "\n",
      "Orbital plots could not be produced.\n",
      "\n",
      "Done. For all outputs, see allesfit/results \n",
      "\n"
     ]
    }
   ],
   "source": [
    "%run run.py"
   ]
  },
  {
   "cell_type": "code",
   "execution_count": 3,
   "id": "7a89ce9b",
   "metadata": {},
   "outputs": [
    {
     "data": {
      "image/png": "[encoded data removed]",
      "text/plain": [
       "<Figure size 360x360 with 1 Axes>"
      ]
     },
     "metadata": {},
     "output_type": "display_data"
    }
   ],
   "source": [
    "%run simulate_data.py"
   ]
  },
  {
   "cell_type": "code",
   "execution_count": null,
   "id": "d7a8ff34",
   "metadata": {},
   "outputs": [],
   "source": []
  }
 ],
 "metadata": {
  "kernelspec": {
   "display_name": "Python 3 (ipykernel)",
   "language": "python",
   "name": "python3"
  },
  "language_info": {
   "codemirror_mode": {
    "name": "ipython",
    "version": 3
   },
   "file_extension": ".py",
   "mimetype": "text/x-python",
   "name": "python",
   "nbconvert_exporter": "python",
   "pygments_lexer": "ipython3",
   "version": "3.9.7"
  }
 },
 "nbformat": 4,
 "nbformat_minor": 5
}
