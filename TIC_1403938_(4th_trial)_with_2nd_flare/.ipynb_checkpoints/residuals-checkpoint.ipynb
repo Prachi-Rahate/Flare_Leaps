{
 "cells": [
  {
   "cell_type": "code",
   "execution_count": null,
   "id": "1ed27c7f",
   "metadata": {},
   "outputs": [],
   "source": [
    "#::: your settings\n",
    "datadir = 'residuals_TIC_1403938' #change this to what you need\n",
    "inst = 'TIC_1403938' #change this to what you need\n",
    "key = 'flux' #change this to what you need"
   ]
  },
  {
   "cell_type": "code",
   "execution_count": null,
   "id": "f83cb23e",
   "metadata": {},
   "outputs": [],
   "source": [
    "#::: initialize the allesclass\n",
    "alles = allesfitter.allesclass(datadir)\n"
   ]
  },
  {
   "cell_type": "code",
   "execution_count": null,
   "id": "9a3c64c8",
   "metadata": {},
   "outputs": [],
   "source": [
    "#::: load the data (and the correct error bars)\n",
    "time = alles.data[inst]['time']\n",
    "flux = alles.data[inst][key]\n",
    "flux_err = alles.data[inst]['err_scales_'+key] * alles.posterior_params_median['err_'+key+'_'+inst]"
   ]
  },
  {
   "cell_type": "code",
   "execution_count": null,
   "id": "d061774a",
   "metadata": {},
   "outputs": [],
   "source": [
    "#::: load the median baseline, median lightcurve model, and median residuals\n",
    "baseline = alles.get_posterior_median_baseline(inst, key)\n",
    "model = alles.get_posterior_median_model(inst, key)\n",
    "residuals = alles.get_posterior_median_residuals(inst, key)"
   ]
  },
  {
   "cell_type": "code",
   "execution_count": null,
   "id": "721f20c7",
   "metadata": {},
   "outputs": [],
   "source": [
    "#::: save everything to a file for your collaborators\n",
    "X = np.column_stack((time, flux, flux_err, detrended_flux, model, residuals))\n",
    "np.savetxt('my_final_file.csv', X, delimiter=',')"
   ]
  }
 ],
 "metadata": {
  "kernelspec": {
   "display_name": "Python 3 (ipykernel)",
   "language": "python",
   "name": "python3"
  },
  "language_info": {
   "codemirror_mode": {
    "name": "ipython",
    "version": 3
   },
   "file_extension": ".py",
   "mimetype": "text/x-python",
   "name": "python",
   "nbconvert_exporter": "python",
   "pygments_lexer": "ipython3",
   "version": "3.9.12"
  }
 },
 "nbformat": 4,
 "nbformat_minor": 5
}
