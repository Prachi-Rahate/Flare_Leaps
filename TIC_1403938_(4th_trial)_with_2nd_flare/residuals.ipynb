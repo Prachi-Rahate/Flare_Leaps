{
 "cells": [
  {
   "cell_type": "code",
   "execution_count": 10,
   "id": "4dc600f0",
   "metadata": {},
   "outputs": [],
   "source": [
    "import allesfitter\n",
    "\n",
    "#::: your settings\n",
    "datadir = 'residuals_TIC_1403938' #change this to what you need\n",
    "inst = 'TIC_1403938' #change this to what you need\n",
    "key = 'flux' #change this to what you need"
   ]
  },
  {
   "cell_type": "code",
   "execution_count": 11,
   "id": "a6a080a2",
   "metadata": {},
   "outputs": [
    {
     "name": "stdout",
     "output_type": "stream",
     "text": [
      "Filling the Basement\n",
      "\n",
      "OrderedDict([('user-given:', ''),\n",
      "             ('companions_phot', ['b']),\n",
      "             ('companions_rv', []),\n",
      "             ('inst_phot', ['TIC_1403938']),\n",
      "             ('inst_rv', []),\n",
      "             ('multiprocess', True),\n",
      "             ('multiprocess_cores', 'all'),\n",
      "             ('fast_fit', 'False'),\n",
      "             ('do_not_phase_fold', 'True'),\n",
      "             ('shift_epoch', False),\n",
      "             ('mcmc_nwalkers', '100'),\n",
      "             ('mcmc_total_steps', '3000'),\n",
      "             ('mcmc_burn_steps', '2000'),\n",
      "             ('mcmc_thin_by', '10'),\n",
      "             ('ns_modus', 'dynamic'),\n",
      "             ('ns_nlive', '500'),\n",
      "             ('ns_bound', 'single'),\n",
      "             ('ns_sample', 'rwalk'),\n",
      "             ('ns_tol', '0.01'),\n",
      "             ('baseline_flux_TIC_1403938', 'hybrid_spline'),\n",
      "             ('error_flux_TIC_1403938', 'sample'),\n",
      "             ('N_flares', '2'),\n",
      "             ('automatically set:', ''),\n",
      "             ('time_format', 'BJD_TDB'),\n",
      "             ('inst_rv2', []),\n",
      "             ('companions_all', ['b']),\n",
      "             ('inst_all', ['TIC_1403938']),\n",
      "             ('print_progress', True),\n",
      "             ('inst_for_b_epoch', ['TIC_1403938'])])\n",
      "Filling the Basement\n",
      "\n",
      "\n",
      "allesfitter version\n",
      "---------------------\n",
      "v1.2.9\n",
      "OrderedDict([('user-given:', ''),\n",
      "             ('companions_phot', ['b']),\n",
      "             ('companions_rv', []),\n",
      "             ('inst_phot', ['TIC_1403938']),\n",
      "             ('inst_rv', []),\n",
      "             ('multiprocess', True),\n",
      "             ('multiprocess_cores', 'all'),\n",
      "             ('fast_fit', 'False'),\n",
      "             ('do_not_phase_fold', 'True'),\n",
      "             ('shift_epoch', False),\n",
      "             ('mcmc_nwalkers', '100'),\n",
      "             ('mcmc_total_steps', '3000'),\n",
      "             ('mcmc_burn_steps', '2000'),\n",
      "             ('mcmc_thin_by', '10'),\n",
      "             ('ns_modus', 'dynamic'),\n",
      "             ('ns_nlive', '500'),\n",
      "             ('ns_bound', 'single'),\n",
      "             ('ns_sample', 'rwalk'),\n",
      "             ('ns_tol', '0.01'),\n",
      "             ('baseline_flux_TIC_1403938', 'hybrid_spline'),\n",
      "             ('error_flux_TIC_1403938', 'sample'),\n",
      "             ('N_flares', '2'),\n",
      "             ('automatically set:', ''),\n",
      "             ('time_format', 'BJD_TDB'),\n",
      "             ('inst_rv2', []),\n",
      "             ('companions_all', ['b']),\n",
      "             ('inst_all', ['TIC_1403938']),\n",
      "             ('print_progress', True),\n",
      "             ('inst_for_b_epoch', ['TIC_1403938'])])\n"
     ]
    }
   ],
   "source": [
    "#::: initialize the allesclass\n",
    "alles = allesfitter.allesclass(datadir)\n"
   ]
  },
  {
   "cell_type": "code",
   "execution_count": 9,
   "id": "56643e3f",
   "metadata": {},
   "outputs": [
    {
     "ename": "AttributeError",
     "evalue": "'allesclass' object has no attribute 'posterior_params_median'",
     "output_type": "error",
     "traceback": [
      "\u001b[0;31m---------------------------------------------------------------------------\u001b[0m",
      "\u001b[0;31mAttributeError\u001b[0m                            Traceback (most recent call last)",
      "Input \u001b[0;32mIn [9]\u001b[0m, in \u001b[0;36m<cell line: 4>\u001b[0;34m()\u001b[0m\n\u001b[1;32m      2\u001b[0m time \u001b[38;5;241m=\u001b[39m alles\u001b[38;5;241m.\u001b[39mdata[inst][\u001b[38;5;124m'\u001b[39m\u001b[38;5;124mtime\u001b[39m\u001b[38;5;124m'\u001b[39m]\n\u001b[1;32m      3\u001b[0m flux \u001b[38;5;241m=\u001b[39m alles\u001b[38;5;241m.\u001b[39mdata[inst][key]\n\u001b[0;32m----> 4\u001b[0m flux_err \u001b[38;5;241m=\u001b[39m alles\u001b[38;5;241m.\u001b[39mdata[inst][\u001b[38;5;124m'\u001b[39m\u001b[38;5;124merr_scales_\u001b[39m\u001b[38;5;124m'\u001b[39m\u001b[38;5;241m+\u001b[39mkey] \u001b[38;5;241m*\u001b[39m \u001b[43malles\u001b[49m\u001b[38;5;241;43m.\u001b[39;49m\u001b[43mposterior_params_median\u001b[49m[\u001b[38;5;124m'\u001b[39m\u001b[38;5;124merr_\u001b[39m\u001b[38;5;124m'\u001b[39m\u001b[38;5;241m+\u001b[39mkey\u001b[38;5;241m+\u001b[39m\u001b[38;5;124m'\u001b[39m\u001b[38;5;124m_\u001b[39m\u001b[38;5;124m'\u001b[39m\u001b[38;5;241m+\u001b[39minst]\n",
      "\u001b[0;31mAttributeError\u001b[0m: 'allesclass' object has no attribute 'posterior_params_median'"
     ]
    }
   ],
   "source": [
    "#::: load the data (and the correct error bars)\n",
    "time = alles.data[inst]['time']\n",
    "flux = alles.data[inst][key]\n",
    "flux_err = alles.data[inst]['err_scales_'+key] * alles.posterior_params_median['err_'+key+'_'+inst]"
   ]
  },
  {
   "cell_type": "code",
   "execution_count": 12,
   "id": "816d4832",
   "metadata": {},
   "outputs": [
    {
     "ename": "AttributeError",
     "evalue": "'allesclass' object has no attribute 'posterior_params_median'",
     "output_type": "error",
     "traceback": [
      "\u001b[0;31m---------------------------------------------------------------------------\u001b[0m",
      "\u001b[0;31mAttributeError\u001b[0m                            Traceback (most recent call last)",
      "Input \u001b[0;32mIn [12]\u001b[0m, in \u001b[0;36m<cell line: 2>\u001b[0;34m()\u001b[0m\n\u001b[1;32m      1\u001b[0m \u001b[38;5;66;03m#::: load the median baseline, median lightcurve model, and median residuals\u001b[39;00m\n\u001b[0;32m----> 2\u001b[0m baseline \u001b[38;5;241m=\u001b[39m \u001b[43malles\u001b[49m\u001b[38;5;241;43m.\u001b[39;49m\u001b[43mget_posterior_median_baseline\u001b[49m\u001b[43m(\u001b[49m\u001b[43minst\u001b[49m\u001b[43m,\u001b[49m\u001b[43m \u001b[49m\u001b[43mkey\u001b[49m\u001b[43m)\u001b[49m\n\u001b[1;32m      3\u001b[0m model \u001b[38;5;241m=\u001b[39m alles\u001b[38;5;241m.\u001b[39mget_posterior_median_model(inst, key)\n\u001b[1;32m      4\u001b[0m residuals \u001b[38;5;241m=\u001b[39m alles\u001b[38;5;241m.\u001b[39mget_posterior_median_residuals(inst, key)\n",
      "File \u001b[0;32m~/anaconda3/envs/Flare/lib/python3.9/site-packages/allesfitter/__init__.py:192\u001b[0m, in \u001b[0;36mallesclass.get_posterior_median_baseline\u001b[0;34m(self, inst, key, xx, model, phased)\u001b[0m\n\u001b[1;32m    190\u001b[0m \u001b[38;5;28;01mdef\u001b[39;00m \u001b[38;5;21mget_posterior_median_baseline\u001b[39m(\u001b[38;5;28mself\u001b[39m, inst, key, xx\u001b[38;5;241m=\u001b[39m\u001b[38;5;28;01mNone\u001b[39;00m, model\u001b[38;5;241m=\u001b[39m\u001b[38;5;28;01mNone\u001b[39;00m, phased\u001b[38;5;241m=\u001b[39m\u001b[38;5;28;01mFalse\u001b[39;00m):\n\u001b[1;32m    191\u001b[0m     \u001b[38;5;28;01mif\u001b[39;00m phased\u001b[38;5;241m==\u001b[39m\u001b[38;5;28;01mFalse\u001b[39;00m:\n\u001b[0;32m--> 192\u001b[0m         \u001b[38;5;28;01mreturn\u001b[39;00m calculate_baseline(\u001b[38;5;28;43mself\u001b[39;49m\u001b[38;5;241;43m.\u001b[39;49m\u001b[43mposterior_params_median\u001b[49m, inst, key, xx\u001b[38;5;241m=\u001b[39mxx, model\u001b[38;5;241m=\u001b[39mmodel)\n\u001b[1;32m    193\u001b[0m     \u001b[38;5;28;01melif\u001b[39;00m phased\u001b[38;5;241m==\u001b[39m\u001b[38;5;28;01mTrue\u001b[39;00m:\n\u001b[1;32m    194\u001b[0m         \u001b[38;5;28;01mraise\u001b[39;00m \u001b[38;5;167;01mValueError\u001b[39;00m(\u001b[38;5;124m'\u001b[39m\u001b[38;5;124mNot yet implemented.\u001b[39m\u001b[38;5;124m'\u001b[39m)\n",
      "\u001b[0;31mAttributeError\u001b[0m: 'allesclass' object has no attribute 'posterior_params_median'"
     ]
    }
   ],
   "source": [
    "#::: load the median baseline, median lightcurve model, and median residuals\n",
    "baseline = alles.get_posterior_median_baseline(inst, key)\n",
    "model = alles.get_posterior_median_model(inst, key)\n",
    "residuals = alles.get_posterior_median_residuals(inst, key)"
   ]
  },
  {
   "cell_type": "code",
   "execution_count": null,
   "id": "8aaec1a1",
   "metadata": {},
   "outputs": [],
   "source": [
    "#::: save everything to a file for your collaborators\n",
    "X = np.column_stack((time, flux, flux_err, detrended_flux, model, residuals))\n",
    "np.savetxt('residual_TIC_1403938.csv', X, delimiter=',')"
   ]
  },
  {
   "cell_type": "code",
   "execution_count": null,
   "id": "b04a9f52",
   "metadata": {},
   "outputs": [],
   "source": []
  }
 ],
 "metadata": {
  "kernelspec": {
   "display_name": "Python 3 (ipykernel)",
   "language": "python",
   "name": "python3"
  },
  "language_info": {
   "codemirror_mode": {
    "name": "ipython",
    "version": 3
   },
   "file_extension": ".py",
   "mimetype": "text/x-python",
   "name": "python",
   "nbconvert_exporter": "python",
   "pygments_lexer": "ipython3",
   "version": "3.9.12"
  }
 },
 "nbformat": 4,
 "nbformat_minor": 5
}
