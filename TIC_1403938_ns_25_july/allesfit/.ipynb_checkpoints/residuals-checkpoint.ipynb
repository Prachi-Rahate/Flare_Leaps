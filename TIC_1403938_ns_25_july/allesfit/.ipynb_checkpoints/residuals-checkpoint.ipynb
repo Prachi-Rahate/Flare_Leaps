{
 "cells": [
  {
   "cell_type": "code",
   "execution_count": 1,
   "id": "1a1d0003",
   "metadata": {},
   "outputs": [],
   "source": [
    "import allesfitter\n",
    "\n",
    "#::: your settings\n",
    "datadir = 'residuals_TIC_1403938' #change this to what you need\n",
    "inst = 'TIC_1403938' #change this to what you need\n",
    "key = 'flux' #change this to what you need"
   ]
  },
  {
   "cell_type": "code",
   "execution_count": 2,
   "id": "ae7dcae5",
   "metadata": {},
   "outputs": [
    {
     "name": "stdout",
     "output_type": "stream",
     "text": [
      "Filling the Basement\n",
      "\n"
     ]
    },
    {
     "ename": "FileNotFoundError",
     "evalue": "residuals_TIC_1403938/settings.csv not found.",
     "output_type": "error",
     "traceback": [
      "\u001b[0;31m---------------------------------------------------------------------------\u001b[0m",
      "\u001b[0;31mFileNotFoundError\u001b[0m                         Traceback (most recent call last)",
      "Input \u001b[0;32mIn [2]\u001b[0m, in \u001b[0;36m<cell line: 2>\u001b[0;34m()\u001b[0m\n\u001b[1;32m      1\u001b[0m \u001b[38;5;66;03m#::: initialize the allesclass\u001b[39;00m\n\u001b[0;32m----> 2\u001b[0m alles \u001b[38;5;241m=\u001b[39m \u001b[43mallesfitter\u001b[49m\u001b[38;5;241;43m.\u001b[39;49m\u001b[43mallesclass\u001b[49m\u001b[43m(\u001b[49m\u001b[43mdatadir\u001b[49m\u001b[43m)\u001b[49m\n",
      "File \u001b[0;32m~/anaconda3/envs/Flare/lib/python3.9/site-packages/allesfitter/__init__.py:83\u001b[0m, in \u001b[0;36mallesclass.__init__\u001b[0;34m(self, datadir, quiet)\u001b[0m\n\u001b[1;32m     82\u001b[0m \u001b[38;5;28;01mdef\u001b[39;00m \u001b[38;5;21m__init__\u001b[39m(\u001b[38;5;28mself\u001b[39m,datadir,quiet\u001b[38;5;241m=\u001b[39m\u001b[38;5;28;01mTrue\u001b[39;00m):\n\u001b[0;32m---> 83\u001b[0m     \u001b[43mconfig\u001b[49m\u001b[38;5;241;43m.\u001b[39;49m\u001b[43minit\u001b[49m\u001b[43m(\u001b[49m\u001b[43mdatadir\u001b[49m\u001b[43m,\u001b[49m\u001b[43mquiet\u001b[49m\u001b[38;5;241;43m=\u001b[39;49m\u001b[43mquiet\u001b[49m\u001b[43m)\u001b[49m\n\u001b[1;32m     84\u001b[0m     \u001b[38;5;28mself\u001b[39m\u001b[38;5;241m.\u001b[39mBASEMENT \u001b[38;5;241m=\u001b[39m config\u001b[38;5;241m.\u001b[39mBASEMENT\n\u001b[1;32m     85\u001b[0m     \u001b[38;5;28mself\u001b[39m\u001b[38;5;241m.\u001b[39mfulldata \u001b[38;5;241m=\u001b[39m config\u001b[38;5;241m.\u001b[39mBASEMENT\u001b[38;5;241m.\u001b[39mfulldata\n",
      "File \u001b[0;32m~/anaconda3/envs/Flare/lib/python3.9/site-packages/allesfitter/config.py:27\u001b[0m, in \u001b[0;36minit\u001b[0;34m(datadir, quiet)\u001b[0m\n\u001b[1;32m     25\u001b[0m \u001b[38;5;28;01mdef\u001b[39;00m \u001b[38;5;21minit\u001b[39m(datadir, quiet\u001b[38;5;241m=\u001b[39m\u001b[38;5;28;01mFalse\u001b[39;00m):\n\u001b[1;32m     26\u001b[0m     \u001b[38;5;28;01mglobal\u001b[39;00m BASEMENT\n\u001b[0;32m---> 27\u001b[0m     BASEMENT \u001b[38;5;241m=\u001b[39m \u001b[43mBasement\u001b[49m\u001b[43m(\u001b[49m\u001b[43mdatadir\u001b[49m\u001b[43m,\u001b[49m\u001b[43m \u001b[49m\u001b[43mquiet\u001b[49m\u001b[38;5;241;43m=\u001b[39;49m\u001b[43mquiet\u001b[49m\u001b[43m)\u001b[49m\n",
      "File \u001b[0;32m~/anaconda3/envs/Flare/lib/python3.9/site-packages/allesfitter/basement.py:91\u001b[0m, in \u001b[0;36mBasement.__init__\u001b[0;34m(self, datadir, quiet)\u001b[0m\n\u001b[1;32m     88\u001b[0m \u001b[38;5;28mself\u001b[39m\u001b[38;5;241m.\u001b[39mlogprint(\u001b[38;5;124m'\u001b[39m\u001b[38;5;124m---------------------\u001b[39m\u001b[38;5;124m'\u001b[39m)\n\u001b[1;32m     89\u001b[0m \u001b[38;5;28mself\u001b[39m\u001b[38;5;241m.\u001b[39mlogprint(\u001b[38;5;124m'\u001b[39m\u001b[38;5;124mv1.2.9\u001b[39m\u001b[38;5;124m'\u001b[39m)\n\u001b[0;32m---> 91\u001b[0m \u001b[38;5;28;43mself\u001b[39;49m\u001b[38;5;241;43m.\u001b[39;49m\u001b[43mload_settings\u001b[49m\u001b[43m(\u001b[49m\u001b[43m)\u001b[49m\n\u001b[1;32m     92\u001b[0m \u001b[38;5;28mself\u001b[39m\u001b[38;5;241m.\u001b[39mload_params()\n\u001b[1;32m     93\u001b[0m \u001b[38;5;28mself\u001b[39m\u001b[38;5;241m.\u001b[39mload_data()\n",
      "File \u001b[0;32m~/anaconda3/envs/Flare/lib/python3.9/site-packages/allesfitter/basement.py:173\u001b[0m, in \u001b[0;36mBasement.load_settings\u001b[0;34m(self)\u001b[0m\n\u001b[1;32m    169\u001b[0m             uniq, index \u001b[38;5;241m=\u001b[39m np\u001b[38;5;241m.\u001b[39munique(array, return_index\u001b[38;5;241m=\u001b[39m\u001b[38;5;28;01mTrue\u001b[39;00m)\n\u001b[1;32m    170\u001b[0m             \u001b[38;5;28;01mreturn\u001b[39;00m uniq[index\u001b[38;5;241m.\u001b[39margsort()]\n\u001b[0;32m--> 173\u001b[0m         rows \u001b[38;5;241m=\u001b[39m \u001b[43mnp\u001b[49m\u001b[38;5;241;43m.\u001b[39;49m\u001b[43mgenfromtxt\u001b[49m\u001b[43m(\u001b[49m\u001b[43m \u001b[49m\u001b[43mos\u001b[49m\u001b[38;5;241;43m.\u001b[39;49m\u001b[43mpath\u001b[49m\u001b[38;5;241;43m.\u001b[39;49m\u001b[43mjoin\u001b[49m\u001b[43m(\u001b[49m\u001b[38;5;28;43mself\u001b[39;49m\u001b[38;5;241;43m.\u001b[39;49m\u001b[43mdatadir\u001b[49m\u001b[43m,\u001b[49m\u001b[38;5;124;43m'\u001b[39;49m\u001b[38;5;124;43msettings.csv\u001b[39;49m\u001b[38;5;124;43m'\u001b[39;49m\u001b[43m)\u001b[49m\u001b[43m,\u001b[49m\u001b[43mdtype\u001b[49m\u001b[38;5;241;43m=\u001b[39;49m\u001b[38;5;28;43;01mNone\u001b[39;49;00m\u001b[43m,\u001b[49m\u001b[43mencoding\u001b[49m\u001b[38;5;241;43m=\u001b[39;49m\u001b[38;5;124;43m'\u001b[39;49m\u001b[38;5;124;43mutf-8\u001b[39;49m\u001b[38;5;124;43m'\u001b[39;49m\u001b[43m,\u001b[49m\u001b[43mdelimiter\u001b[49m\u001b[38;5;241;43m=\u001b[39;49m\u001b[38;5;124;43m'\u001b[39;49m\u001b[38;5;124;43m,\u001b[39;49m\u001b[38;5;124;43m'\u001b[39;49m\u001b[43m \u001b[49m\u001b[43m)\u001b[49m\n\u001b[1;32m    175\u001b[0m         \u001b[38;5;66;03m#::: make backwards compatible\u001b[39;00m\n\u001b[1;32m    176\u001b[0m         \u001b[38;5;28;01mfor\u001b[39;00m i, row \u001b[38;5;129;01min\u001b[39;00m \u001b[38;5;28menumerate\u001b[39m(rows):\n\u001b[1;32m    177\u001b[0m \u001b[38;5;66;03m#            print(row)\u001b[39;00m\n",
      "File \u001b[0;32m~/anaconda3/envs/Flare/lib/python3.9/site-packages/numpy/lib/npyio.py:1813\u001b[0m, in \u001b[0;36mgenfromtxt\u001b[0;34m(fname, dtype, comments, delimiter, skip_header, skip_footer, converters, missing_values, filling_values, usecols, names, excludelist, deletechars, replace_space, autostrip, case_sensitive, defaultfmt, unpack, usemask, loose, invalid_raise, max_rows, encoding, like)\u001b[0m\n\u001b[1;32m   1811\u001b[0m     fname \u001b[38;5;241m=\u001b[39m os_fspath(fname)\n\u001b[1;32m   1812\u001b[0m \u001b[38;5;28;01mif\u001b[39;00m \u001b[38;5;28misinstance\u001b[39m(fname, \u001b[38;5;28mstr\u001b[39m):\n\u001b[0;32m-> 1813\u001b[0m     fid \u001b[38;5;241m=\u001b[39m \u001b[43mnp\u001b[49m\u001b[38;5;241;43m.\u001b[39;49m\u001b[43mlib\u001b[49m\u001b[38;5;241;43m.\u001b[39;49m\u001b[43m_datasource\u001b[49m\u001b[38;5;241;43m.\u001b[39;49m\u001b[43mopen\u001b[49m\u001b[43m(\u001b[49m\u001b[43mfname\u001b[49m\u001b[43m,\u001b[49m\u001b[43m \u001b[49m\u001b[38;5;124;43m'\u001b[39;49m\u001b[38;5;124;43mrt\u001b[39;49m\u001b[38;5;124;43m'\u001b[39;49m\u001b[43m,\u001b[49m\u001b[43m \u001b[49m\u001b[43mencoding\u001b[49m\u001b[38;5;241;43m=\u001b[39;49m\u001b[43mencoding\u001b[49m\u001b[43m)\u001b[49m\n\u001b[1;32m   1814\u001b[0m     fid_ctx \u001b[38;5;241m=\u001b[39m contextlib\u001b[38;5;241m.\u001b[39mclosing(fid)\n\u001b[1;32m   1815\u001b[0m \u001b[38;5;28;01melse\u001b[39;00m:\n",
      "File \u001b[0;32m~/anaconda3/envs/Flare/lib/python3.9/site-packages/numpy/lib/_datasource.py:193\u001b[0m, in \u001b[0;36mopen\u001b[0;34m(path, mode, destpath, encoding, newline)\u001b[0m\n\u001b[1;32m    156\u001b[0m \u001b[38;5;124;03m\"\"\"\u001b[39;00m\n\u001b[1;32m    157\u001b[0m \u001b[38;5;124;03mOpen `path` with `mode` and return the file object.\u001b[39;00m\n\u001b[1;32m    158\u001b[0m \n\u001b[0;32m   (...)\u001b[0m\n\u001b[1;32m    189\u001b[0m \n\u001b[1;32m    190\u001b[0m \u001b[38;5;124;03m\"\"\"\u001b[39;00m\n\u001b[1;32m    192\u001b[0m ds \u001b[38;5;241m=\u001b[39m DataSource(destpath)\n\u001b[0;32m--> 193\u001b[0m \u001b[38;5;28;01mreturn\u001b[39;00m \u001b[43mds\u001b[49m\u001b[38;5;241;43m.\u001b[39;49m\u001b[43mopen\u001b[49m\u001b[43m(\u001b[49m\u001b[43mpath\u001b[49m\u001b[43m,\u001b[49m\u001b[43m \u001b[49m\u001b[43mmode\u001b[49m\u001b[43m,\u001b[49m\u001b[43m \u001b[49m\u001b[43mencoding\u001b[49m\u001b[38;5;241;43m=\u001b[39;49m\u001b[43mencoding\u001b[49m\u001b[43m,\u001b[49m\u001b[43m \u001b[49m\u001b[43mnewline\u001b[49m\u001b[38;5;241;43m=\u001b[39;49m\u001b[43mnewline\u001b[49m\u001b[43m)\u001b[49m\n",
      "File \u001b[0;32m~/anaconda3/envs/Flare/lib/python3.9/site-packages/numpy/lib/_datasource.py:532\u001b[0m, in \u001b[0;36mDataSource.open\u001b[0;34m(self, path, mode, encoding, newline)\u001b[0m\n\u001b[1;32m    529\u001b[0m     \u001b[38;5;28;01mreturn\u001b[39;00m _file_openers[ext](found, mode\u001b[38;5;241m=\u001b[39mmode,\n\u001b[1;32m    530\u001b[0m                               encoding\u001b[38;5;241m=\u001b[39mencoding, newline\u001b[38;5;241m=\u001b[39mnewline)\n\u001b[1;32m    531\u001b[0m \u001b[38;5;28;01melse\u001b[39;00m:\n\u001b[0;32m--> 532\u001b[0m     \u001b[38;5;28;01mraise\u001b[39;00m \u001b[38;5;167;01mFileNotFoundError\u001b[39;00m(\u001b[38;5;124mf\u001b[39m\u001b[38;5;124m\"\u001b[39m\u001b[38;5;132;01m{\u001b[39;00mpath\u001b[38;5;132;01m}\u001b[39;00m\u001b[38;5;124m not found.\u001b[39m\u001b[38;5;124m\"\u001b[39m)\n",
      "\u001b[0;31mFileNotFoundError\u001b[0m: residuals_TIC_1403938/settings.csv not found."
     ]
    }
   ],
   "source": [
    "#::: initialize the allesclass\n",
    "alles = allesfitter.allesclass(datadir)\n"
   ]
  },
  {
   "cell_type": "code",
   "execution_count": 9,
   "id": "d940a80d",
   "metadata": {},
   "outputs": [
    {
     "ename": "AttributeError",
     "evalue": "'allesclass' object has no attribute 'posterior_params_median'",
     "output_type": "error",
     "traceback": [
      "\u001b[0;31m---------------------------------------------------------------------------\u001b[0m",
      "\u001b[0;31mAttributeError\u001b[0m                            Traceback (most recent call last)",
      "Input \u001b[0;32mIn [9]\u001b[0m, in \u001b[0;36m<cell line: 4>\u001b[0;34m()\u001b[0m\n\u001b[1;32m      2\u001b[0m time \u001b[38;5;241m=\u001b[39m alles\u001b[38;5;241m.\u001b[39mdata[inst][\u001b[38;5;124m'\u001b[39m\u001b[38;5;124mtime\u001b[39m\u001b[38;5;124m'\u001b[39m]\n\u001b[1;32m      3\u001b[0m flux \u001b[38;5;241m=\u001b[39m alles\u001b[38;5;241m.\u001b[39mdata[inst][key]\n\u001b[0;32m----> 4\u001b[0m flux_err \u001b[38;5;241m=\u001b[39m alles\u001b[38;5;241m.\u001b[39mdata[inst][\u001b[38;5;124m'\u001b[39m\u001b[38;5;124merr_scales_\u001b[39m\u001b[38;5;124m'\u001b[39m\u001b[38;5;241m+\u001b[39mkey] \u001b[38;5;241m*\u001b[39m \u001b[43malles\u001b[49m\u001b[38;5;241;43m.\u001b[39;49m\u001b[43mposterior_params_median\u001b[49m[\u001b[38;5;124m'\u001b[39m\u001b[38;5;124merr_\u001b[39m\u001b[38;5;124m'\u001b[39m\u001b[38;5;241m+\u001b[39mkey\u001b[38;5;241m+\u001b[39m\u001b[38;5;124m'\u001b[39m\u001b[38;5;124m_\u001b[39m\u001b[38;5;124m'\u001b[39m\u001b[38;5;241m+\u001b[39minst]\n",
      "\u001b[0;31mAttributeError\u001b[0m: 'allesclass' object has no attribute 'posterior_params_median'"
     ]
    }
   ],
   "source": [
    "#::: load the data (and the correct error bars)\n",
    "time = alles.data[inst]['time']\n",
    "flux = alles.data[inst][key]\n",
    "flux_err = alles.data[inst]['err_scales_'+key] * alles.posterior_params_median['err_'+key+'_'+inst]"
   ]
  },
  {
   "cell_type": "code",
   "execution_count": null,
   "id": "03228401",
   "metadata": {},
   "outputs": [],
   "source": [
    "#::: load the median baseline, median lightcurve model, and median residuals\n",
    "baseline = alles.get_posterior_median_baseline(inst, key)\n",
    "model = alles.get_posterior_median_model(inst, key)\n",
    "residuals = alles.get_posterior_median_residuals(inst, key)"
   ]
  },
  {
   "cell_type": "code",
   "execution_count": null,
   "id": "9fa457d4",
   "metadata": {},
   "outputs": [],
   "source": [
    "#::: save everything to a file for your collaborators\n",
    "X = np.column_stack((time, flux, flux_err, detrended_flux, model, residuals))\n",
    "np.savetxt('residual_TIC_1403938.csv', X, delimiter=',')"
   ]
  },
  {
   "cell_type": "code",
   "execution_count": null,
   "id": "1429c8be",
   "metadata": {},
   "outputs": [],
   "source": []
  }
 ],
 "metadata": {
  "kernelspec": {
   "display_name": "Python 3 (ipykernel)",
   "language": "python",
   "name": "python3"
  },
  "language_info": {
   "codemirror_mode": {
    "name": "ipython",
    "version": 3
   },
   "file_extension": ".py",
   "mimetype": "text/x-python",
   "name": "python",
   "nbconvert_exporter": "python",
   "pygments_lexer": "ipython3",
   "version": "3.9.12"
  }
 },
 "nbformat": 4,
 "nbformat_minor": 5
}
