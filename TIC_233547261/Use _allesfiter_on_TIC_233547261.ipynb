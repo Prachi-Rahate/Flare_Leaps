{
 "cells": [
  {
   "cell_type": "code",
   "execution_count": 3,
   "id": "08bdb217",
   "metadata": {},
   "outputs": [],
   "source": [
    "import allesfitter"
   ]
  },
  {
   "cell_type": "code",
   "execution_count": 4,
   "id": "f320e527",
   "metadata": {},
   "outputs": [
    {
     "name": "stdout",
     "output_type": "stream",
     "text": [
      "Filling the Basement\n",
      "\n",
      "\n",
      "allesfitter version\n",
      "---------------------\n",
      "v1.2.9\n",
      "OrderedDict([('user-given:', ''),\n",
      "             ('companions_phot', ['b']),\n",
      "             ('companions_rv', []),\n",
      "             ('inst_phot', ['TIC_233547261']),\n",
      "             ('inst_rv', []),\n",
      "             ('multiprocess', True),\n",
      "             ('multiprocess_cores', 'all'),\n",
      "             ('fast_fit', 'False'),\n",
      "             ('do_not_phase_fold', 'True'),\n",
      "             ('shift_epoch', False),\n",
      "             ('mcmc_nwalkers', '100'),\n",
      "             ('mcmc_total_steps', '3000'),\n",
      "             ('mcmc_burn_steps', '2000'),\n",
      "             ('mcmc_thin_by', '10'),\n",
      "             ('ns_modus', 'dynamic'),\n",
      "             ('ns_nlive', '500'),\n",
      "             ('ns_bound', 'single'),\n",
      "             ('ns_sample', 'rwalk'),\n",
      "             ('ns_tol', '0.01'),\n",
      "             ('baseline_flux_TIC_233547261', 'hybrid_spline'),\n",
      "             ('error_flux_TIC_233547261', 'sample'),\n",
      "             ('N_flares', '2'),\n",
      "             ('automatically set:', ''),\n",
      "             ('time_format', 'BJD_TDB'),\n",
      "             ('inst_rv2', []),\n",
      "             ('companions_all', ['b']),\n",
      "             ('inst_all', ['TIC_233547261']),\n",
      "             ('print_progress', True),\n",
      "             ('inst_for_b_epoch', ['TIC_233547261'])])\n"
     ]
    },
    {
     "ename": "ValueError",
     "evalue": "There are NaN values in \"TIC_233547261.csv\". Please make sure everything is fine with your data, then exclude these rows from the file and restart.",
     "output_type": "error",
     "traceback": [
      "\u001b[0;31m---------------------------------------------------------------------------\u001b[0m",
      "\u001b[0;31mValueError\u001b[0m                                Traceback (most recent call last)",
      "File \u001b[0;32m~/Downloads/Leaps/flares/TIC_233547261/run.py:22\u001b[0m, in \u001b[0;36m<module>\u001b[0;34m\u001b[0m\n\u001b[1;32m      3\u001b[0m \u001b[38;5;124;03m\"\"\"\u001b[39;00m\n\u001b[1;32m      4\u001b[0m \u001b[38;5;124;03mCreated on Wed Sep 12 15:57:05 2018\u001b[39;00m\n\u001b[1;32m      5\u001b[0m \n\u001b[0;32m   (...)\u001b[0m\n\u001b[1;32m     13\u001b[0m \u001b[38;5;124;03mEmail: maxgue@mit.edu\u001b[39;00m\n\u001b[1;32m     14\u001b[0m \u001b[38;5;124;03m\"\"\"\u001b[39;00m\n\u001b[1;32m     18\u001b[0m \u001b[38;5;28;01mimport\u001b[39;00m \u001b[38;5;21;01mallesfitter\u001b[39;00m\n\u001b[0;32m---> 22\u001b[0m \u001b[43mallesfitter\u001b[49m\u001b[38;5;241;43m.\u001b[39;49m\u001b[43mshow_initial_guess\u001b[49m\u001b[43m(\u001b[49m\u001b[38;5;124;43m'\u001b[39;49m\u001b[38;5;124;43mallesfit\u001b[39;49m\u001b[38;5;124;43m'\u001b[39;49m\u001b[43m)\u001b[49m\n\u001b[1;32m     23\u001b[0m allesfitter\u001b[38;5;241m.\u001b[39mmcmc_fit(\u001b[38;5;124m'\u001b[39m\u001b[38;5;124mallesfit\u001b[39m\u001b[38;5;124m'\u001b[39m)\n\u001b[1;32m     24\u001b[0m allesfitter\u001b[38;5;241m.\u001b[39mmcmc_output(\u001b[38;5;124m'\u001b[39m\u001b[38;5;124mallesfit\u001b[39m\u001b[38;5;124m'\u001b[39m)\n",
      "File \u001b[0;32m~/anaconda3/envs/Flare/lib/python3.9/site-packages/allesfitter/general_output.py:1017\u001b[0m, in \u001b[0;36mshow_initial_guess\u001b[0;34m(datadir, quiet, do_logprint, do_plot, return_figs, kwargs_dict)\u001b[0m\n\u001b[1;32m   1015\u001b[0m \u001b[38;5;28;01mdef\u001b[39;00m \u001b[38;5;21mshow_initial_guess\u001b[39m(datadir, quiet\u001b[38;5;241m=\u001b[39m\u001b[38;5;28;01mFalse\u001b[39;00m, do_logprint\u001b[38;5;241m=\u001b[39m\u001b[38;5;28;01mTrue\u001b[39;00m, do_plot\u001b[38;5;241m=\u001b[39m\u001b[38;5;28;01mTrue\u001b[39;00m, return_figs\u001b[38;5;241m=\u001b[39m\u001b[38;5;28;01mFalse\u001b[39;00m, kwargs_dict\u001b[38;5;241m=\u001b[39m\u001b[38;5;28;01mNone\u001b[39;00m):\n\u001b[1;32m   1016\u001b[0m     \u001b[38;5;66;03m#::: init\u001b[39;00m\n\u001b[0;32m-> 1017\u001b[0m     \u001b[43mconfig\u001b[49m\u001b[38;5;241;43m.\u001b[39;49m\u001b[43minit\u001b[49m\u001b[43m(\u001b[49m\u001b[43mdatadir\u001b[49m\u001b[43m,\u001b[49m\u001b[43m \u001b[49m\u001b[43mquiet\u001b[49m\u001b[38;5;241;43m=\u001b[39;49m\u001b[43mquiet\u001b[49m\u001b[43m)\u001b[49m    \n\u001b[1;32m   1019\u001b[0m     \u001b[38;5;66;03m#::: show initial guess\u001b[39;00m\n\u001b[1;32m   1020\u001b[0m     \u001b[38;5;28;01mif\u001b[39;00m do_logprint: \n",
      "File \u001b[0;32m~/anaconda3/envs/Flare/lib/python3.9/site-packages/allesfitter/config.py:27\u001b[0m, in \u001b[0;36minit\u001b[0;34m(datadir, quiet)\u001b[0m\n\u001b[1;32m     25\u001b[0m \u001b[38;5;28;01mdef\u001b[39;00m \u001b[38;5;21minit\u001b[39m(datadir, quiet\u001b[38;5;241m=\u001b[39m\u001b[38;5;28;01mFalse\u001b[39;00m):\n\u001b[1;32m     26\u001b[0m     \u001b[38;5;28;01mglobal\u001b[39;00m BASEMENT\n\u001b[0;32m---> 27\u001b[0m     BASEMENT \u001b[38;5;241m=\u001b[39m \u001b[43mBasement\u001b[49m\u001b[43m(\u001b[49m\u001b[43mdatadir\u001b[49m\u001b[43m,\u001b[49m\u001b[43m \u001b[49m\u001b[43mquiet\u001b[49m\u001b[38;5;241;43m=\u001b[39;49m\u001b[43mquiet\u001b[49m\u001b[43m)\u001b[49m\n",
      "File \u001b[0;32m~/anaconda3/envs/Flare/lib/python3.9/site-packages/allesfitter/basement.py:93\u001b[0m, in \u001b[0;36mBasement.__init__\u001b[0;34m(self, datadir, quiet)\u001b[0m\n\u001b[1;32m     91\u001b[0m \u001b[38;5;28mself\u001b[39m\u001b[38;5;241m.\u001b[39mload_settings()\n\u001b[1;32m     92\u001b[0m \u001b[38;5;28mself\u001b[39m\u001b[38;5;241m.\u001b[39mload_params()\n\u001b[0;32m---> 93\u001b[0m \u001b[38;5;28;43mself\u001b[39;49m\u001b[38;5;241;43m.\u001b[39;49m\u001b[43mload_data\u001b[49m\u001b[43m(\u001b[49m\u001b[43m)\u001b[49m\n\u001b[1;32m     95\u001b[0m \u001b[38;5;28;01mif\u001b[39;00m \u001b[38;5;28mself\u001b[39m\u001b[38;5;241m.\u001b[39msettings[\u001b[38;5;124m'\u001b[39m\u001b[38;5;124mshift_epoch\u001b[39m\u001b[38;5;124m'\u001b[39m]:\n\u001b[1;32m     96\u001b[0m     \u001b[38;5;28;01mtry\u001b[39;00m:\n",
      "File \u001b[0;32m~/anaconda3/envs/Flare/lib/python3.9/site-packages/allesfitter/basement.py:981\u001b[0m, in \u001b[0;36mBasement.load_data\u001b[0;34m(self)\u001b[0m\n\u001b[1;32m    979\u001b[0m     custom_series \u001b[38;5;241m=\u001b[39m np\u001b[38;5;241m.\u001b[39mzeros_like(time)\n\u001b[1;32m    980\u001b[0m \u001b[38;5;28;01mif\u001b[39;00m \u001b[38;5;28many\u001b[39m(np\u001b[38;5;241m.\u001b[39misnan(time\u001b[38;5;241m*\u001b[39mflux\u001b[38;5;241m*\u001b[39mflux_err\u001b[38;5;241m*\u001b[39mcustom_series)):\n\u001b[0;32m--> 981\u001b[0m     \u001b[38;5;28;01mraise\u001b[39;00m \u001b[38;5;167;01mValueError\u001b[39;00m(\u001b[38;5;124m'\u001b[39m\u001b[38;5;124mThere are NaN values in \u001b[39m\u001b[38;5;124m\"\u001b[39m\u001b[38;5;124m'\u001b[39m\u001b[38;5;241m+\u001b[39minst\u001b[38;5;241m+\u001b[39m\u001b[38;5;124m'\u001b[39m\u001b[38;5;124m.csv\u001b[39m\u001b[38;5;124m\"\u001b[39m\u001b[38;5;124m. Please make sure everything is fine with your data, then exclude these rows from the file and restart.\u001b[39m\u001b[38;5;124m'\u001b[39m)\n\u001b[1;32m    982\u001b[0m \u001b[38;5;28;01mif\u001b[39;00m \u001b[38;5;28many\u001b[39m(flux_err\u001b[38;5;241m==\u001b[39m\u001b[38;5;241m0\u001b[39m):\n\u001b[1;32m    983\u001b[0m     \u001b[38;5;28;01mraise\u001b[39;00m \u001b[38;5;167;01mValueError\u001b[39;00m(\u001b[38;5;124m'\u001b[39m\u001b[38;5;124mThere are uncertainties with values of 0 in \u001b[39m\u001b[38;5;124m\"\u001b[39m\u001b[38;5;124m'\u001b[39m\u001b[38;5;241m+\u001b[39minst\u001b[38;5;241m+\u001b[39m\u001b[38;5;124m'\u001b[39m\u001b[38;5;124m.csv\u001b[39m\u001b[38;5;124m\"\u001b[39m\u001b[38;5;124m. Please make sure everything is fine with your data, then exclude these rows from the file and restart.\u001b[39m\u001b[38;5;124m'\u001b[39m)\n",
      "\u001b[0;31mValueError\u001b[0m: There are NaN values in \"TIC_233547261.csv\". Please make sure everything is fine with your data, then exclude these rows from the file and restart."
     ]
    }
   ],
   "source": [
    "%run run.py"
   ]
  },
  {
   "cell_type": "code",
   "execution_count": null,
   "id": "9dfba15e",
   "metadata": {},
   "outputs": [],
   "source": []
  }
 ],
 "metadata": {
  "kernelspec": {
   "display_name": "Python 3 (ipykernel)",
   "language": "python",
   "name": "python3"
  },
  "language_info": {
   "codemirror_mode": {
    "name": "ipython",
    "version": 3
   },
   "file_extension": ".py",
   "mimetype": "text/x-python",
   "name": "python",
   "nbconvert_exporter": "python",
   "pygments_lexer": "ipython3",
   "version": "3.9.12"
  }
 },
 "nbformat": 4,
 "nbformat_minor": 5
}
